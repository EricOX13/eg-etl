{
 "cells": [
  {
   "cell_type": "code",
   "execution_count": 1,
   "metadata": {},
   "outputs": [
    {
     "name": "stderr",
     "output_type": "stream",
     "text": [
      "Picked up JAVA_TOOL_OPTIONS: -Dfile.encoding=ISO-8859-1\n",
      "Picked up JAVA_TOOL_OPTIONS: -Dfile.encoding=ISO-8859-1\n"
     ]
    },
    {
     "name": "stdout",
     "output_type": "stream",
     "text": [
      ":: loading settings :: url = jar:file:/Users/ericyeung/Library/Caches/pypoetry/virtualenvs/evergreen-DHscqOYO-py3.11/lib/python3.11/site-packages/pyspark/jars/ivy-2.5.1.jar!/org/apache/ivy/core/settings/ivysettings.xml\n"
     ]
    },
    {
     "name": "stderr",
     "output_type": "stream",
     "text": [
      "Ivy Default Cache set to: /Users/ericyeung/.ivy2/cache\n",
      "The jars for the packages stored in: /Users/ericyeung/.ivy2/jars\n",
      "org.apache.iceberg#iceberg-spark-runtime-3.4_2.12 added as a dependency\n",
      ":: resolving dependencies :: org.apache.spark#spark-submit-parent-9035a958-9441-4bfb-9796-c1bbba9ace58;1.0\n",
      "\tconfs: [default]\n",
      "\tfound org.apache.iceberg#iceberg-spark-runtime-3.4_2.12;1.4.3 in central\n",
      ":: resolution report :: resolve 83ms :: artifacts dl 3ms\n",
      "\t:: modules in use:\n",
      "\torg.apache.iceberg#iceberg-spark-runtime-3.4_2.12;1.4.3 from central in [default]\n",
      "\t---------------------------------------------------------------------\n",
      "\t|                  |            modules            ||   artifacts   |\n",
      "\t|       conf       | number| search|dwnlded|evicted|| number|dwnlded|\n",
      "\t---------------------------------------------------------------------\n",
      "\t|      default     |   1   |   0   |   0   |   0   ||   1   |   0   |\n",
      "\t---------------------------------------------------------------------\n",
      ":: retrieving :: org.apache.spark#spark-submit-parent-9035a958-9441-4bfb-9796-c1bbba9ace58\n",
      "\tconfs: [default]\n",
      "\t0 artifacts copied, 1 already retrieved (0kB/4ms)\n",
      "24/02/29 22:11:58 WARN NativeCodeLoader: Unable to load native-hadoop library for your platform... using builtin-java classes where applicable\n",
      "Setting default log level to \"WARN\".\n",
      "To adjust logging level use sc.setLogLevel(newLevel). For SparkR, use setLogLevel(newLevel).\n",
      "24/02/29 22:11:59 WARN Utils: Service 'SparkUI' could not bind on port 4040. Attempting port 4041.\n"
     ]
    }
   ],
   "source": [
    "from pyspark.sql import SparkSession\n",
    "from pyspark import SparkConf\n",
    "from datetime import datetime\n",
    "\n",
    "warehouse_path = \"./warehouse\"\n",
    "iceberg_spark_jar  = 'org.apache.iceberg:iceberg-spark-runtime-3.4_2.12:1.4.3'\n",
    "catalog_name = \"demo\"\n",
    "\n",
    "# Setup iceberg config\n",
    "conf = (\n",
    "    SparkConf()\n",
    "    .setAppName(\"EgApp\")\n",
    "    .set(\n",
    "        \"spark.sql.extensions\",\n",
    "        \"org.apache.iceberg.spark.extensions.IcebergSparkSessionExtensions\",\n",
    "    )\n",
    "    .set(f\"spark.sql.catalog.{catalog_name}\", \"org.apache.iceberg.spark.SparkCatalog\")\n",
    "    .set(\"spark.jars.packages\", iceberg_spark_jar)\n",
    "    .set(f\"spark.sql.catalog.{catalog_name}.warehouse\", warehouse_path)\n",
    "    .set(f\"spark.sql.catalog.{catalog_name}.type\", \"hadoop\")\n",
    "    .set(\"spark.sql.defaultCatalog\", catalog_name)\n",
    ")\n",
    "\n",
    "sc = SparkSession.builder.master(\"local\").config(conf=conf).getOrCreate()\n"
   ]
  },
  {
   "cell_type": "markdown",
   "metadata": {},
   "source": [
    "Group by LA"
   ]
  },
  {
   "cell_type": "code",
   "execution_count": 2,
   "metadata": {},
   "outputs": [
    {
     "name": "stderr",
     "output_type": "stream",
     "text": [
      "[Stage 1:=============================>                             (1 + 1) / 2]\r"
     ]
    },
    {
     "name": "stdout",
     "output_type": "stream",
     "text": [
      "+---------+----------+\n",
      "|   lacode|user_count|\n",
      "+---------+----------+\n",
      "|S12000006|        21|\n",
      "|E07000239|        10|\n",
      "|N09000011|         9|\n",
      "|E07000244|        28|\n",
      "|E07000039|         6|\n",
      "|S12000021|         6|\n",
      "|E06000009|        14|\n",
      "|E08000005|        10|\n",
      "|E06000023|        32|\n",
      "|E07000188|         9|\n",
      "|E07000107|         4|\n",
      "|E07000085|        15|\n",
      "|E07000111|        15|\n",
      "|E06000019|        15|\n",
      "|E07000124|         6|\n",
      "|E07000225|         6|\n",
      "|E06000036|         6|\n",
      "|E08000014|        17|\n",
      "|N09000007|        11|\n",
      "|E06000012|        18|\n",
      "+---------+----------+\n",
      "only showing top 20 rows\n",
      "\n"
     ]
    },
    {
     "name": "stderr",
     "output_type": "stream",
     "text": [
      "                                                                                \r"
     ]
    }
   ],
   "source": [
    "sc.sql(\"select p.lacode, count(u.id) as user_count from db.users u join db.postcode p on u.address_postcode = p.postcode group by p.lacode\").show()"
   ]
  },
  {
   "cell_type": "markdown",
   "metadata": {},
   "source": [
    "Group by Country"
   ]
  },
  {
   "cell_type": "code",
   "execution_count": 3,
   "metadata": {},
   "outputs": [
    {
     "name": "stdout",
     "output_type": "stream",
     "text": [
      "+----------------+---------+\n",
      "|         country|count(id)|\n",
      "+----------------+---------+\n",
      "|           Wales|      212|\n",
      "|         England|     3618|\n",
      "|        Scotland|      423|\n",
      "|Northern Ireland|      140|\n",
      "+----------------+---------+\n",
      "\n"
     ]
    }
   ],
   "source": [
    "sc.sql(\"select p.country, count(u.id) as user_count from db.users u join db.postcode p on u.address_postcode = p.postcode group by p.country\").show()"
   ]
  }
 ],
 "metadata": {
  "kernelspec": {
   "display_name": "Python 3",
   "language": "python",
   "name": "python3"
  },
  "language_info": {
   "codemirror_mode": {
    "name": "ipython",
    "version": 3
   },
   "file_extension": ".py",
   "mimetype": "text/x-python",
   "name": "python",
   "nbconvert_exporter": "python",
   "pygments_lexer": "ipython3",
   "version": "3.11.0"
  }
 },
 "nbformat": 4,
 "nbformat_minor": 2
}
